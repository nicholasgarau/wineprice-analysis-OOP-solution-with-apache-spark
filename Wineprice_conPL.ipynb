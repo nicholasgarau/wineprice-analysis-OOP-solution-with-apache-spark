{
 "cells": [
  {
   "cell_type": "markdown",
   "id": "baa2ae19",
   "metadata": {},
   "source": [
    "# Analisi del prezzo del vino\n",
    "\n",
    "## Progetto finale \"Laboratorio di Big Data\" \n",
    "\n",
    "### 1. Creazione Spark Session e importazione del dataset"
   ]
  },
  {
   "cell_type": "code",
   "execution_count": 2,
   "id": "039ac4e3",
   "metadata": {},
   "outputs": [],
   "source": [
    "from pyspark.sql import SparkSession\n",
    "spark = SparkSession.builder.appName('FinalProject').getOrCreate()"
   ]
  },
  {
   "cell_type": "code",
   "execution_count": 3,
   "id": "27bdab0f",
   "metadata": {},
   "outputs": [],
   "source": [
    "df = spark.read.csv('white-wine-price-rating.csv', header=True, inferSchema=True)"
   ]
  },
  {
   "cell_type": "code",
   "execution_count": 4,
   "id": "48babe40",
   "metadata": {},
   "outputs": [
    {
     "data": {
      "text/plain": [
       "['FullName',\n",
       " 'Winery',\n",
       " 'WineName',\n",
       " 'Year',\n",
       " 'Region',\n",
       " 'RegionalVariety',\n",
       " 'VintageRating',\n",
       " 'VintageRatingCount',\n",
       " 'WineRating',\n",
       " 'WineRatingCount',\n",
       " 'VintagePrice',\n",
       " 'WinePrice',\n",
       " 'VintageRatingPriceRatio',\n",
       " 'WineRatingPriceRatio']"
      ]
     },
     "execution_count": 4,
     "metadata": {},
     "output_type": "execute_result"
    }
   ],
   "source": [
    "df.columns"
   ]
  },
  {
   "cell_type": "markdown",
   "id": "5d1a31e0",
   "metadata": {},
   "source": [
    "Lo scopo principale dell'analisi è creare un modello predittivo per il prezzo date determinate caratteristiche. Al fine di prevedere il prezzo, dato dalla colonna WinePrice, ignorerò le variabili con l'attributo vintage, perchè come possiamo osservare di seguito, il prezzo vintage è identico al prezzo non vintage, quindi possiamo eliminare la variabile. "
   ]
  },
  {
   "cell_type": "code",
   "execution_count": 5,
   "id": "bf94dc21",
   "metadata": {},
   "outputs": [
    {
     "name": "stdout",
     "output_type": "stream",
     "text": [
      "+------------+---------+\n",
      "|VintagePrice|WinePrice|\n",
      "+------------+---------+\n",
      "|      806.58|   806.58|\n",
      "|       680.0|    680.0|\n",
      "|       448.0|    448.0|\n",
      "|     164.675|  164.675|\n",
      "|     3478.36|  3478.36|\n",
      "|      4022.8|   4022.8|\n",
      "|      2420.0|   2420.0|\n",
      "|       864.0|    864.0|\n",
      "|     7249.11|  7249.11|\n",
      "|     5419.19|  5419.19|\n",
      "|     2923.84|  2923.84|\n",
      "|     1008.22|  1008.22|\n",
      "|      366.68|   366.68|\n",
      "|      6800.0|   6800.0|\n",
      "|      393.21|   393.21|\n",
      "|      207.17|   207.17|\n",
      "|       260.0|    260.0|\n",
      "|       599.0|    599.0|\n",
      "|       223.0|    223.0|\n",
      "|       259.0|    259.0|\n",
      "|       400.0|    400.0|\n",
      "|       250.0|    250.0|\n",
      "|       220.0|    220.0|\n",
      "|       245.0|    245.0|\n",
      "|       226.0|    226.0|\n",
      "+------------+---------+\n",
      "only showing top 25 rows\n",
      "\n"
     ]
    }
   ],
   "source": [
    "df.select('VintagePrice','WinePrice').show(25)"
   ]
  },
  {
   "cell_type": "code",
   "execution_count": 6,
   "id": "5b2342ae",
   "metadata": {},
   "outputs": [
    {
     "name": "stdout",
     "output_type": "stream",
     "text": [
      "+--------------------+--------------------+--------------------+\n",
      "|            FullName|              Winery|            WineName|\n",
      "+--------------------+--------------------+--------------------+\n",
      "|Domaine Coche-Dur...|  Domaine Coche-Dury|Meursault Les Rou...|\n",
      "|Joseph Drouhin Mo...|      Joseph Drouhin|Montrachet Grand ...|\n",
      "|Marcassin Marcass...|           Marcassin|Marcassin Vineyar...|\n",
      "|M. Chapoutier Erm...|       M. Chapoutier|Ermitage Le Méal ...|\n",
      "|Domaine Coche-Dur...|  Domaine Coche-Dury|Corton-Charlemagn...|\n",
      "|Domaine Coche-Dur...|  Domaine Coche-Dury|Corton-Charlemagn...|\n",
      "|Keller G-Max Ries...|              Keller|      G-Max Riesling|\n",
      "|Château Haut-Brio...|  Château Haut-Brion|Pessac-Léognan Bl...|\n",
      "|Domaine de La Rom...|Domaine de La Rom...|Montrachet Grand Cru|\n",
      "|Domaine de La Rom...|Domaine de La Rom...|Montrachet Grand Cru|\n",
      "|Domaine Coche-Dur...|  Domaine Coche-Dury|Corton-Charlemagn...|\n",
      "|Domaine Coche-Dur...|  Domaine Coche-Dury|Meursault Les Rou...|\n",
      "|Olivier Leflaive ...|    Olivier Leflaive|Bâtard-Montrachet...|\n",
      "|Domaine de La Rom...|Domaine de La Rom...|Montrachet Grand Cru|\n",
      "|Domaine Leflaive ...|    Domaine Leflaive|Bâtard-Montrachet...|\n",
      "|F.X. Pichler Unen...|        F.X. Pichler|  Unendlich Riesling|\n",
      "|Bachelet-Monnot B...|     Bachelet-Monnot|Bâtard-Montrachet...|\n",
      "|Marqués de Murrie...| Marqués de Murrieta|Castillo Ygay Gra...|\n",
      "|La Grange des Pèr...| La Grange des Pères|Vin de Pays de l'...|\n",
      "|Kistler Cuvée Cat...|             Kistler|Cuvée Cathleen Ki...|\n",
      "+--------------------+--------------------+--------------------+\n",
      "only showing top 20 rows\n",
      "\n"
     ]
    }
   ],
   "source": [
    "df.select('FullName','Winery','WineName').show()"
   ]
  },
  {
   "cell_type": "markdown",
   "id": "c6deec02",
   "metadata": {},
   "source": [
    "Osserviamo che la prima variabile FullName è l'unione delle variabili Winery e WineName. Eliminerò quindi la variabile FullName e terrò le altre due, tenendo in considerazione il fatto che però il WineName complichi solamente il modello in fase di encoding: vale l'assunzione per cui si presume che vi sia una sola etichetta(in termini di prodotto) per una data cantina, dato un determinato territorio e uvaggio. \n",
    "\n",
    "Procedo quindi prima dell'analisi esplorativa, al dropping delle colonne superflue, creando prima una copia del dataset.\n"
   ]
  },
  {
   "cell_type": "code",
   "execution_count": 7,
   "id": "50b2987d",
   "metadata": {},
   "outputs": [],
   "source": [
    "df1 = df"
   ]
  },
  {
   "cell_type": "code",
   "execution_count": 8,
   "id": "9fea6a3f",
   "metadata": {},
   "outputs": [],
   "source": [
    "df1 = df1.drop('FullName', 'VintageRating', 'VintageRatingCount','VintagePrice',\n",
    "             'VintageRatingPriceRatio', 'WineRatingPriceRatio')"
   ]
  },
  {
   "cell_type": "code",
   "execution_count": 9,
   "id": "7f3a441c",
   "metadata": {},
   "outputs": [
    {
     "name": "stdout",
     "output_type": "stream",
     "text": [
      "(4594, 14)\n"
     ]
    }
   ],
   "source": [
    "print((df.count(), len(df.columns)))"
   ]
  },
  {
   "cell_type": "code",
   "execution_count": 10,
   "id": "db7ab85c",
   "metadata": {},
   "outputs": [
    {
     "name": "stdout",
     "output_type": "stream",
     "text": [
      "(4594, 8)\n"
     ]
    }
   ],
   "source": [
    "print((df1.count(), len(df1.columns)))"
   ]
  },
  {
   "cell_type": "code",
   "execution_count": 11,
   "id": "722ed0b6",
   "metadata": {},
   "outputs": [
    {
     "data": {
      "text/plain": [
       "['Winery',\n",
       " 'WineName',\n",
       " 'Year',\n",
       " 'Region',\n",
       " 'RegionalVariety',\n",
       " 'WineRating',\n",
       " 'WineRatingCount',\n",
       " 'WinePrice']"
      ]
     },
     "execution_count": 11,
     "metadata": {},
     "output_type": "execute_result"
    }
   ],
   "source": [
    "df1.columns"
   ]
  },
  {
   "cell_type": "code",
   "execution_count": 12,
   "id": "dd209d48",
   "metadata": {},
   "outputs": [
    {
     "name": "stdout",
     "output_type": "stream",
     "text": [
      "root\n",
      " |-- Winery: string (nullable = true)\n",
      " |-- WineName: string (nullable = true)\n",
      " |-- Year: string (nullable = true)\n",
      " |-- Region: string (nullable = true)\n",
      " |-- RegionalVariety: string (nullable = true)\n",
      " |-- WineRating: double (nullable = true)\n",
      " |-- WineRatingCount: integer (nullable = true)\n",
      " |-- WinePrice: double (nullable = true)\n",
      "\n"
     ]
    }
   ],
   "source": [
    "df1.printSchema()"
   ]
  },
  {
   "cell_type": "markdown",
   "id": "9b7af4dc",
   "metadata": {},
   "source": [
    "### 2. Analisi esplorativa\n",
    "\n",
    "In questa fase andrò a valutare le singole variabili e a plottarle per eventualmente rimuovere eventuali outliers che possano influenzare negativamente i modelli. \n",
    "\n",
    "Un'aspetto molto importante da tenere in considerazione in questo caso è l'anno: non andrò a convertirlo in formato date, in quanto l'anno per un vino è una variabile che può essere considerata nominale, una caratteristica che associata al prezzo non è legata al fattore temporale, visto che possono esserci le così dette 'annate'.\n"
   ]
  },
  {
   "cell_type": "code",
   "execution_count": 13,
   "id": "2b818fc0",
   "metadata": {},
   "outputs": [
    {
     "name": "stdout",
     "output_type": "stream",
     "text": [
      "+--------+----------------+----+------+---------------+----------+---------------+---------+\n",
      "|  Winery|        WineName|Year|Region|RegionalVariety|WineRating|WineRatingCount|WinePrice|\n",
      "+--------+----------------+----+------+---------------+----------+---------------+---------+\n",
      "|Paradies|Riesling Trocken|2017|German|       Riesling|       3.5|            177|     23.5|\n",
      "+--------+----------------+----+------+---------------+----------+---------------+---------+\n",
      "\n"
     ]
    }
   ],
   "source": [
    "df1.filter(df1['WineRating']<3.6).show()  "
   ]
  },
  {
   "cell_type": "code",
   "execution_count": 14,
   "id": "5ac1fe64",
   "metadata": {},
   "outputs": [
    {
     "name": "stdout",
     "output_type": "stream",
     "text": [
      "+------+--------+----+------+---------------+----------+---------------+---------+\n",
      "|Winery|WineName|Year|Region|RegionalVariety|WineRating|WineRatingCount|WinePrice|\n",
      "+------+--------+----+------+---------------+----------+---------------+---------+\n",
      "+------+--------+----+------+---------------+----------+---------------+---------+\n",
      "\n"
     ]
    }
   ],
   "source": [
    "df1.filter(df1['WineRating']>4.7).show() "
   ]
  },
  {
   "cell_type": "markdown",
   "id": "3c6d8c0d",
   "metadata": {},
   "source": [
    "Il valore minimo di WineRating è 3.5, mentre il massimo è 4.7.\n",
    "\n",
    "Per il plotting, si deve necessariamente creare una copia del dataframe pyspark in pandas dataframe,con la funzione toPandas(), perchè Spark è sprovvisto di librerie dedicate."
   ]
  },
  {
   "cell_type": "code",
   "execution_count": 15,
   "id": "abbe9d34",
   "metadata": {},
   "outputs": [],
   "source": [
    "df_plot = df1.toPandas()"
   ]
  },
  {
   "cell_type": "code",
   "execution_count": 16,
   "id": "fedb9a6d",
   "metadata": {},
   "outputs": [
    {
     "data": {
      "text/html": [
       "<div>\n",
       "<style scoped>\n",
       "    .dataframe tbody tr th:only-of-type {\n",
       "        vertical-align: middle;\n",
       "    }\n",
       "\n",
       "    .dataframe tbody tr th {\n",
       "        vertical-align: top;\n",
       "    }\n",
       "\n",
       "    .dataframe thead th {\n",
       "        text-align: right;\n",
       "    }\n",
       "</style>\n",
       "<table border=\"1\" class=\"dataframe\">\n",
       "  <thead>\n",
       "    <tr style=\"text-align: right;\">\n",
       "      <th></th>\n",
       "      <th>Winery</th>\n",
       "      <th>WineName</th>\n",
       "      <th>Year</th>\n",
       "      <th>Region</th>\n",
       "      <th>RegionalVariety</th>\n",
       "      <th>WineRating</th>\n",
       "      <th>WineRatingCount</th>\n",
       "      <th>WinePrice</th>\n",
       "    </tr>\n",
       "  </thead>\n",
       "  <tbody>\n",
       "    <tr>\n",
       "      <th>0</th>\n",
       "      <td>Domaine Coche-Dury</td>\n",
       "      <td>Meursault Les Rougeots</td>\n",
       "      <td>2001</td>\n",
       "      <td>Burgundy</td>\n",
       "      <td>Côte de Beaune White</td>\n",
       "      <td>4.7</td>\n",
       "      <td>755</td>\n",
       "      <td>806.580</td>\n",
       "    </tr>\n",
       "    <tr>\n",
       "      <th>1</th>\n",
       "      <td>Joseph Drouhin</td>\n",
       "      <td>Montrachet Grand Cru Marquis de Laguiche</td>\n",
       "      <td>2015</td>\n",
       "      <td>Burgundy</td>\n",
       "      <td>Côte de Beaune White</td>\n",
       "      <td>4.6</td>\n",
       "      <td>1191</td>\n",
       "      <td>680.000</td>\n",
       "    </tr>\n",
       "    <tr>\n",
       "      <th>2</th>\n",
       "      <td>Marcassin</td>\n",
       "      <td>Marcassin Vineyard Chardonnay</td>\n",
       "      <td>2013</td>\n",
       "      <td>Californian</td>\n",
       "      <td>Chardonnay</td>\n",
       "      <td>4.6</td>\n",
       "      <td>884</td>\n",
       "      <td>448.000</td>\n",
       "    </tr>\n",
       "    <tr>\n",
       "      <th>3</th>\n",
       "      <td>M. Chapoutier</td>\n",
       "      <td>Ermitage Le Méal Blanc</td>\n",
       "      <td>2006</td>\n",
       "      <td>Northern Rhône</td>\n",
       "      <td>White</td>\n",
       "      <td>4.5</td>\n",
       "      <td>414</td>\n",
       "      <td>164.675</td>\n",
       "    </tr>\n",
       "    <tr>\n",
       "      <th>4</th>\n",
       "      <td>Domaine Coche-Dury</td>\n",
       "      <td>Corton-Charlemagne Grand Cru</td>\n",
       "      <td>2007</td>\n",
       "      <td>Burgundy</td>\n",
       "      <td>Côte de Beaune White</td>\n",
       "      <td>4.7</td>\n",
       "      <td>454</td>\n",
       "      <td>3478.360</td>\n",
       "    </tr>\n",
       "    <tr>\n",
       "      <th>...</th>\n",
       "      <td>...</td>\n",
       "      <td>...</td>\n",
       "      <td>...</td>\n",
       "      <td>...</td>\n",
       "      <td>...</td>\n",
       "      <td>...</td>\n",
       "      <td>...</td>\n",
       "      <td>...</td>\n",
       "    </tr>\n",
       "    <tr>\n",
       "      <th>4589</th>\n",
       "      <td>Domaine du Tunnel</td>\n",
       "      <td>Saint-Péray Roussanne</td>\n",
       "      <td>2018</td>\n",
       "      <td>Northern Rhône</td>\n",
       "      <td>Saint-Péray</td>\n",
       "      <td>4.0</td>\n",
       "      <td>543</td>\n",
       "      <td>23.530</td>\n",
       "    </tr>\n",
       "    <tr>\n",
       "      <th>4590</th>\n",
       "      <td>Brown Brothers</td>\n",
       "      <td>Patricia Chardonnay</td>\n",
       "      <td>2010</td>\n",
       "      <td>Australian</td>\n",
       "      <td>Chardonnay</td>\n",
       "      <td>4.0</td>\n",
       "      <td>194</td>\n",
       "      <td>29.480</td>\n",
       "    </tr>\n",
       "    <tr>\n",
       "      <th>4591</th>\n",
       "      <td>Litmus Wines</td>\n",
       "      <td>White Pinot</td>\n",
       "      <td>2015</td>\n",
       "      <td>None</td>\n",
       "      <td>None</td>\n",
       "      <td>4.0</td>\n",
       "      <td>91</td>\n",
       "      <td>24.500</td>\n",
       "    </tr>\n",
       "    <tr>\n",
       "      <th>4592</th>\n",
       "      <td>Rollin Père et Fils</td>\n",
       "      <td>Pernand-Vergelesses 'Les Cloux'</td>\n",
       "      <td>2017</td>\n",
       "      <td>Burgundy</td>\n",
       "      <td>Côte de Beaune White</td>\n",
       "      <td>4.1</td>\n",
       "      <td>330</td>\n",
       "      <td>20.160</td>\n",
       "    </tr>\n",
       "    <tr>\n",
       "      <th>4593</th>\n",
       "      <td>Suertes del Marqués</td>\n",
       "      <td>Vidonia</td>\n",
       "      <td>2018</td>\n",
       "      <td>None</td>\n",
       "      <td>None</td>\n",
       "      <td>3.9</td>\n",
       "      <td>832</td>\n",
       "      <td>21.340</td>\n",
       "    </tr>\n",
       "  </tbody>\n",
       "</table>\n",
       "<p>4594 rows × 8 columns</p>\n",
       "</div>"
      ],
      "text/plain": [
       "                   Winery                                  WineName  Year  \\\n",
       "0      Domaine Coche-Dury                    Meursault Les Rougeots  2001   \n",
       "1          Joseph Drouhin  Montrachet Grand Cru Marquis de Laguiche  2015   \n",
       "2               Marcassin             Marcassin Vineyard Chardonnay  2013   \n",
       "3           M. Chapoutier                    Ermitage Le Méal Blanc  2006   \n",
       "4      Domaine Coche-Dury              Corton-Charlemagne Grand Cru  2007   \n",
       "...                   ...                                       ...   ...   \n",
       "4589    Domaine du Tunnel                     Saint-Péray Roussanne  2018   \n",
       "4590       Brown Brothers                       Patricia Chardonnay  2010   \n",
       "4591         Litmus Wines                               White Pinot  2015   \n",
       "4592  Rollin Père et Fils           Pernand-Vergelesses 'Les Cloux'  2017   \n",
       "4593  Suertes del Marqués                                   Vidonia  2018   \n",
       "\n",
       "              Region       RegionalVariety  WineRating  WineRatingCount  \\\n",
       "0           Burgundy  Côte de Beaune White         4.7              755   \n",
       "1           Burgundy  Côte de Beaune White         4.6             1191   \n",
       "2        Californian            Chardonnay         4.6              884   \n",
       "3     Northern Rhône                 White         4.5              414   \n",
       "4           Burgundy  Côte de Beaune White         4.7              454   \n",
       "...              ...                   ...         ...              ...   \n",
       "4589  Northern Rhône           Saint-Péray         4.0              543   \n",
       "4590      Australian            Chardonnay         4.0              194   \n",
       "4591            None                  None         4.0               91   \n",
       "4592        Burgundy  Côte de Beaune White         4.1              330   \n",
       "4593            None                  None         3.9              832   \n",
       "\n",
       "      WinePrice  \n",
       "0       806.580  \n",
       "1       680.000  \n",
       "2       448.000  \n",
       "3       164.675  \n",
       "4      3478.360  \n",
       "...         ...  \n",
       "4589     23.530  \n",
       "4590     29.480  \n",
       "4591     24.500  \n",
       "4592     20.160  \n",
       "4593     21.340  \n",
       "\n",
       "[4594 rows x 8 columns]"
      ]
     },
     "execution_count": 16,
     "metadata": {},
     "output_type": "execute_result"
    }
   ],
   "source": [
    "df_plot"
   ]
  },
  {
   "cell_type": "code",
   "execution_count": 17,
   "id": "dff555b6",
   "metadata": {},
   "outputs": [],
   "source": [
    "import seaborn as sns"
   ]
  },
  {
   "cell_type": "code",
   "execution_count": 18,
   "id": "80f59fe3",
   "metadata": {},
   "outputs": [
    {
     "data": {
      "text/plain": [
       "<seaborn.axisgrid.FacetGrid at 0x7fec727a1c10>"
      ]
     },
     "execution_count": 18,
     "metadata": {},
     "output_type": "execute_result"
    },
    {
     "data": {
      "image/png": "[encoded data removed]",
      "text/plain": [
       "<Figure size 864x432 with 1 Axes>"
      ]
     },
     "metadata": {
      "needs_background": "light"
     },
     "output_type": "display_data"
    }
   ],
   "source": [
    "sns.displot(df_plot['WineRating'],aspect=2,color='red',height=6)"
   ]
  },
  {
   "cell_type": "markdown",
   "id": "4d3f1813",
   "metadata": {},
   "source": [
    "I rating seguono grossomodo una distribuzione normale con circa 1000 ossrevazioni con un rating di 4.1\n"
   ]
  },
  {
   "cell_type": "code",
   "execution_count": 19,
   "id": "1fea9c1f",
   "metadata": {},
   "outputs": [
    {
     "data": {
      "image/png": "[encoded data removed]",
      "text/plain": [
       "<Figure size 1080x504 with 1 Axes>"
      ]
     },
     "metadata": {
      "needs_background": "light"
     },
     "output_type": "display_data"
    }
   ],
   "source": [
    "bp1 = sns.boxplot(data=df_plot['WineRatingCount'],color='darkred',orient='h')\n",
    "bp1.figure.set_size_inches(15,7)"
   ]
  },
  {
   "cell_type": "markdown",
   "id": "ad8ad3ae",
   "metadata": {},
   "source": [
    "Nel boxplot possiamo subito vedere che siamo in presenza di alcuni outlier, in particolare le osservazioni sopra le 10000 valutazioni. Provvedo all'eliminazione di questi outlier con un drop nel dataframe Spark che userò per i modelli, ponendo una soglia di 8000. "
   ]
  },
  {
   "cell_type": "code",
   "execution_count": 20,
   "id": "0b922527",
   "metadata": {},
   "outputs": [],
   "source": [
    "df1 = df1.filter(df1.WineRatingCount<8000)"
   ]
  },
  {
   "cell_type": "code",
   "execution_count": 21,
   "id": "677f911b",
   "metadata": {},
   "outputs": [
    {
     "data": {
      "text/plain": [
       "0"
      ]
     },
     "execution_count": 21,
     "metadata": {},
     "output_type": "execute_result"
    }
   ],
   "source": [
    "df1.filter(df1['WineRatingCount']>8000).count()"
   ]
  },
  {
   "cell_type": "code",
   "execution_count": 22,
   "id": "a5c339cd",
   "metadata": {},
   "outputs": [
    {
     "data": {
      "image/png": "[encoded data removed]",
      "text/plain": [
       "<Figure size 1080x504 with 1 Axes>"
      ]
     },
     "metadata": {
      "needs_background": "light"
     },
     "output_type": "display_data"
    }
   ],
   "source": [
    "bp_price = sns.boxplot(data=df_plot['WinePrice'],color='green',orient='h')\n",
    "bp_price.figure.set_size_inches(15,7)"
   ]
  },
  {
   "cell_type": "markdown",
   "id": "e5831c2f",
   "metadata": {},
   "source": [
    "Sorge lo stesso problema osservando il boxplot del prezzo, con 20 osservazioni sopra i 2000€ e 2 osservazioni isolate poco sotto i 2000. Procediamo quindi a un filtraggio eliminando tutte le righe che presentano un prezzo superiore ai 1000€."
   ]
  },
  {
   "cell_type": "code",
   "execution_count": 23,
   "id": "1a41e532",
   "metadata": {},
   "outputs": [],
   "source": [
    "df1 = df1.filter(df1.WinePrice<1000)"
   ]
  },
  {
   "cell_type": "code",
   "execution_count": 24,
   "id": "044708b5",
   "metadata": {},
   "outputs": [
    {
     "data": {
      "text/plain": [
       "0"
      ]
     },
     "execution_count": 24,
     "metadata": {},
     "output_type": "execute_result"
    }
   ],
   "source": [
    "df1.filter(df1['WinePrice']>1000).count()"
   ]
  },
  {
   "cell_type": "code",
   "execution_count": 25,
   "id": "57ca3150",
   "metadata": {},
   "outputs": [
    {
     "data": {
      "text/plain": [
       "4530"
      ]
     },
     "execution_count": 25,
     "metadata": {},
     "output_type": "execute_result"
    }
   ],
   "source": [
    "df1.count()"
   ]
  },
  {
   "cell_type": "markdown",
   "id": "85ab34a3",
   "metadata": {},
   "source": [
    "A questo punto ci restano 4530 osservazioni. Dall' output del  dataframe pandas però sorge la presenza di valori nulli:"
   ]
  },
  {
   "cell_type": "code",
   "execution_count": 26,
   "id": "b9581787",
   "metadata": {},
   "outputs": [],
   "source": [
    "df2 = df1"
   ]
  },
  {
   "cell_type": "code",
   "execution_count": 27,
   "id": "9e11b804",
   "metadata": {},
   "outputs": [],
   "source": [
    "df2 = df2.dropna()"
   ]
  },
  {
   "cell_type": "code",
   "execution_count": 28,
   "id": "e50341d8",
   "metadata": {},
   "outputs": [
    {
     "name": "stdout",
     "output_type": "stream",
     "text": [
      "4153 4530\n"
     ]
    }
   ],
   "source": [
    "print(df2.count(),df1.count())"
   ]
  },
  {
   "cell_type": "markdown",
   "id": "41e5b863",
   "metadata": {},
   "source": [
    "Vediamo come dopo l'eliminazione dei valori nulli le osservazioni si riducono a 4153. "
   ]
  },
  {
   "cell_type": "markdown",
   "id": "6de01151",
   "metadata": {},
   "source": [
    "### 3. Spark preprocessing: \n",
    "\n",
    "Per poter lavorare i dati in contesto Spark abbiamo la necessità di effetuare un laovro di preprocessing, in particolare andrò a indicizzare con uno StringIndexer le features categoriche, andrò poi a fare un lavoro di encoding attraverso il OneHotEncoding, per poi creare un requisito fondamentare per il training dei modelli di machine learning, il VectorAssembler. \n",
    "\n",
    "Tutti questi passaggi ci vengono facilitati attraverso la creazione di una Pipeline, una tecnica fondamentale in programmazione distribuita. L'output della pipeline in questo caso sarà il dataframe spark pronto con tutte le feature, che verranno filtrate successivamente con un select() per poi esser pronte al training dei modelli."
   ]
  },
  {
   "cell_type": "code",
   "execution_count": 32,
   "id": "5e251f36",
   "metadata": {},
   "outputs": [],
   "source": [
    "from pyspark.ml.feature import StringIndexer, OneHotEncoder, VectorAssembler\n",
    "from pyspark.ml import Pipeline"
   ]
  },
  {
   "cell_type": "code",
   "execution_count": 33,
   "id": "5cb059fb",
   "metadata": {},
   "outputs": [],
   "source": [
    "indexer = StringIndexer(inputCols=('Winery','Region','RegionalVariety','Year'), \n",
    "                        outputCols=('WineryNDX','RegionNDX','RegionalVarietyNDX','YearNDX'),handleInvalid='skip')\n",
    "encoder = OneHotEncoder(inputCols=('WineryNDX','YearNDX','RegionNDX','RegionalVarietyNDX'),\n",
    "                        outputCols=('WineryENC','YearENC','RegionENC','RegionalVarietyENC'))\n",
    "assembler = VectorAssembler(inputCols = ['WineryENC','RegionENC','RegionalVarietyENC','YearENC',\n",
    "                                         'WineRating','WineRatingCount'], outputCol='features',handleInvalid='skip')\n",
    "\n",
    "pipeline = Pipeline(stages=[indexer, encoder, assembler]) "
   ]
  },
  {
   "cell_type": "code",
   "execution_count": 41,
   "id": "2ce6f5ef",
   "metadata": {},
   "outputs": [],
   "source": [
    "data = pipeline.fit(df2).transform(df2)"
   ]
  },
  {
   "cell_type": "code",
   "execution_count": 42,
   "id": "b4244d9c",
   "metadata": {},
   "outputs": [
    {
     "data": {
      "text/plain": [
       "DataFrame[Winery: string, WineName: string, Year: string, Region: string, RegionalVariety: string, WineRating: double, WineRatingCount: int, WinePrice: double, WineryNDX: double, RegionNDX: double, RegionalVarietyNDX: double, YearNDX: double, WineryENC: vector, YearENC: vector, RegionENC: vector, RegionalVarietyENC: vector, features: vector]"
      ]
     },
     "execution_count": 42,
     "metadata": {},
     "output_type": "execute_result"
    }
   ],
   "source": [
    "data"
   ]
  },
  {
   "cell_type": "code",
   "execution_count": 43,
   "id": "a00d7b08",
   "metadata": {},
   "outputs": [],
   "source": [
    "df_final = data.select('features','WinePrice')"
   ]
  },
  {
   "cell_type": "code",
   "execution_count": 44,
   "id": "cb03374b",
   "metadata": {},
   "outputs": [
    {
     "name": "stdout",
     "output_type": "stream",
     "text": [
      "+--------------------+---------+\n",
      "|            features|WinePrice|\n",
      "+--------------------+---------+\n",
      "|(1170,[7,1074,110...|   806.58|\n",
      "|(1170,[6,1074,110...|    680.0|\n",
      "|(1170,[203,1077,1...|    448.0|\n",
      "|(1170,[15,1080,11...|  164.675|\n",
      "|(1170,[44,1081,11...|    864.0|\n",
      "+--------------------+---------+\n",
      "only showing top 5 rows\n",
      "\n"
     ]
    }
   ],
   "source": [
    "df_final.show(5)"
   ]
  },
  {
   "cell_type": "markdown",
   "id": "a1479f55",
   "metadata": {},
   "source": [
    "In df_final ci saranno solo le features prese per il modello predittivo e il prezzo del vino da prevedere."
   ]
  },
  {
   "cell_type": "code",
   "execution_count": 45,
   "id": "40bcbe96",
   "metadata": {},
   "outputs": [
    {
     "name": "stdout",
     "output_type": "stream",
     "text": [
      "root\n",
      " |-- features: vector (nullable = true)\n",
      " |-- WinePrice: double (nullable = true)\n",
      "\n"
     ]
    }
   ],
   "source": [
    "df_final.printSchema()"
   ]
  },
  {
   "cell_type": "code",
   "execution_count": 46,
   "id": "47a9989f",
   "metadata": {},
   "outputs": [],
   "source": [
    "from pyspark.sql.functions import round\n",
    "df_final = df_final.select('features',round(df_final['WinePrice'],2).alias('WinePrice'))"
   ]
  },
  {
   "cell_type": "code",
   "execution_count": 47,
   "id": "760c329c",
   "metadata": {},
   "outputs": [
    {
     "name": "stdout",
     "output_type": "stream",
     "text": [
      "+---------+\n",
      "|WinePrice|\n",
      "+---------+\n",
      "|   806.58|\n",
      "|    680.0|\n",
      "|    448.0|\n",
      "|   164.68|\n",
      "|    864.0|\n",
      "|   366.68|\n",
      "|   393.21|\n",
      "|   207.17|\n",
      "|    260.0|\n",
      "|    599.0|\n",
      "+---------+\n",
      "only showing top 10 rows\n",
      "\n"
     ]
    }
   ],
   "source": [
    "df_final.select('WinePrice').show(10)"
   ]
  },
  {
   "cell_type": "markdown",
   "id": "be56d087",
   "metadata": {},
   "source": [
    "Dato che stiamo trattando dei prezzi, con la funzione round arrotondo al secondo decimale tenendo invariato il tipo di dato, che resta un Double. \n",
    "\n",
    "Ora non mi resta che effettuare uno split in training e test set e fittare una regressione lineare.\n",
    "\n",
    "### 4.1: Regressione Lineare "
   ]
  },
  {
   "cell_type": "code",
   "execution_count": 63,
   "id": "dca10f2d",
   "metadata": {},
   "outputs": [],
   "source": [
    "training_set_ns, test_set_ns = df_final.randomSplit([0.8,0.2])"
   ]
  },
  {
   "cell_type": "code",
   "execution_count": 64,
   "id": "e32356c6",
   "metadata": {},
   "outputs": [],
   "source": [
    "from pyspark.ml.regression import LinearRegression"
   ]
  },
  {
   "cell_type": "code",
   "execution_count": 65,
   "id": "4b736234",
   "metadata": {},
   "outputs": [],
   "source": [
    "regressor_ns = LinearRegression(featuresCol='features', labelCol='WinePrice', predictionCol='prediction')"
   ]
  },
  {
   "cell_type": "code",
   "execution_count": 66,
   "id": "94569227",
   "metadata": {},
   "outputs": [],
   "source": [
    "model_lm_ns = regressor_ns.fit(training_set_ns)"
   ]
  },
  {
   "cell_type": "code",
   "execution_count": 67,
   "id": "535a4dcf",
   "metadata": {},
   "outputs": [],
   "source": [
    "performance_lm_ns = model_lm_ns.evaluate(test_set_ns)"
   ]
  },
  {
   "cell_type": "code",
   "execution_count": 68,
   "id": "73f2ec21",
   "metadata": {},
   "outputs": [
    {
     "name": "stdout",
     "output_type": "stream",
     "text": [
      "R2 measure: 0.6275555958505075\n",
      "Mean Absolute Error: 38.3078673364105\n",
      "Root Mean Squared Error: 64.30008450864891\n"
     ]
    }
   ],
   "source": [
    "print(f\"R2 measure: {performance_lm_ns.r2}\")\n",
    "print(f\"Mean Absolute Error: {performance_lm_ns.meanAbsoluteError}\")\n",
    "print(f\"Root Mean Squared Error: {performance_lm_ns.rootMeanSquaredError}\")"
   ]
  },
  {
   "cell_type": "markdown",
   "id": "c1b044b7",
   "metadata": {},
   "source": [
    "R2 ci spiega quanta variabilità nei dati il modello riesce a spiegarci, con dati non scalati siamo al 62% sul test set."
   ]
  },
  {
   "cell_type": "code",
   "execution_count": 69,
   "id": "869bc2fd",
   "metadata": {},
   "outputs": [],
   "source": [
    "predictions_lm_ns = model_lm_ns.transform(test_set_ns)"
   ]
  },
  {
   "cell_type": "code",
   "execution_count": 70,
   "id": "d758ef08",
   "metadata": {},
   "outputs": [
    {
     "name": "stdout",
     "output_type": "stream",
     "text": [
      "+---------+----------+\n",
      "|WinePrice|prediction|\n",
      "+---------+----------+\n",
      "|   107.95|    238.45|\n",
      "|    184.0|    259.82|\n",
      "|   110.98|    243.57|\n",
      "|   110.28|    240.26|\n",
      "|    150.0|    269.66|\n",
      "|   221.81|    282.68|\n",
      "|    366.0|    323.77|\n",
      "|   142.68|    267.46|\n",
      "|   245.95|    248.45|\n",
      "|   292.68|    288.83|\n",
      "|    450.0|    329.92|\n",
      "|    202.8|    291.28|\n",
      "|   205.85|    310.68|\n",
      "|    240.0|    315.36|\n",
      "|   247.85|     256.4|\n",
      "|    44.45|     29.06|\n",
      "|    59.17|     57.47|\n",
      "|    57.13|      54.1|\n",
      "|    54.17|     34.18|\n",
      "|   226.84|    124.19|\n",
      "+---------+----------+\n",
      "only showing top 20 rows\n",
      "\n"
     ]
    }
   ],
   "source": [
    "predictions_lm_ns.select('WinePrice', round('prediction',2).alias('prediction')).show(20)"
   ]
  },
  {
   "cell_type": "markdown",
   "id": "31ac814a",
   "metadata": {},
   "source": [
    "Ora partendo da df_final applicherò lo stesso procedimento ma con un MinMax scaler sulle features."
   ]
  },
  {
   "cell_type": "code",
   "execution_count": 71,
   "id": "b7625277",
   "metadata": {},
   "outputs": [],
   "source": [
    "from pyspark.ml.feature import MinMaxScaler\n",
    "scaler = MinMaxScaler(inputCol='features', outputCol='scaledFeatures')"
   ]
  },
  {
   "cell_type": "code",
   "execution_count": 72,
   "id": "987d8145",
   "metadata": {},
   "outputs": [],
   "source": [
    "scaled = scaler.fit(df_final).transform(df_final)"
   ]
  },
  {
   "cell_type": "code",
   "execution_count": 73,
   "id": "7e3bbcaa",
   "metadata": {},
   "outputs": [],
   "source": [
    "training_set_s, test_set_s = scaled.randomSplit([0.8,0.2])"
   ]
  },
  {
   "cell_type": "code",
   "execution_count": 74,
   "id": "a20e187f",
   "metadata": {},
   "outputs": [],
   "source": [
    "regressor_s = LinearRegression(featuresCol='scaledFeatures', labelCol='WinePrice', predictionCol='prediction')"
   ]
  },
  {
   "cell_type": "code",
   "execution_count": 75,
   "id": "53dbe0d3",
   "metadata": {},
   "outputs": [],
   "source": [
    "model_lm_s = regressor_s.fit(training_set_s)"
   ]
  },
  {
   "cell_type": "code",
   "execution_count": 76,
   "id": "2cced48c",
   "metadata": {},
   "outputs": [],
   "source": [
    "performance_lm_s = model_lm_s.evaluate(test_set_s)"
   ]
  },
  {
   "cell_type": "code",
   "execution_count": 77,
   "id": "1162cd8e",
   "metadata": {},
   "outputs": [
    {
     "name": "stdout",
     "output_type": "stream",
     "text": [
      "R2 measure - scaled: 0.6530238542630169\n",
      "Mean Absolute Error - scaled: 37.59902502704328\n",
      "Root Mean Squared Error - scaled: 64.51474531350453\n"
     ]
    }
   ],
   "source": [
    "print(f\"R2 measure - scaled: {performance_lm_s.r2}\")\n",
    "print(f\"Mean Absolute Error - scaled: {performance_lm_s.meanAbsoluteError}\")\n",
    "print(f\"Root Mean Squared Error - scaled: {performance_lm_s.rootMeanSquaredError}\")"
   ]
  },
  {
   "cell_type": "markdown",
   "id": "dfa0728d",
   "metadata": {},
   "source": [
    "Possiamo osservare che nonostante l' R2 sale di qualche punto percentuale. Sia il Mean Absolute error che il RMSE sono rimasti pressochè invariati, ma con un r2 maggiore preferirei il modello con i dati scalati. Posso comunque ritenermi soddisfatto dei modelli, in quanto l' RMSE in entrambe le situazioni sta sotto la media di WinePrice, che, come possiamo vedere nella cella di seguito, è di 77,53€. Questo ci fa capire che il modello performa discretamente."
   ]
  },
  {
   "cell_type": "code",
   "execution_count": 78,
   "id": "f461b6a2",
   "metadata": {},
   "outputs": [
    {
     "name": "stdout",
     "output_type": "stream",
     "text": [
      "+----------------+\n",
      "|  avg(WinePrice)|\n",
      "+----------------+\n",
      "|77.5337779918131|\n",
      "+----------------+\n",
      "\n"
     ]
    }
   ],
   "source": [
    "from pyspark.sql.functions import mean\n",
    "df_final.select(mean(df_final['WinePrice'])).show()"
   ]
  },
  {
   "cell_type": "code",
   "execution_count": 79,
   "id": "4f6802f8",
   "metadata": {},
   "outputs": [],
   "source": [
    "predictions_lm_s = model_lm_s.transform(test_set_s)"
   ]
  },
  {
   "cell_type": "code",
   "execution_count": 80,
   "id": "a4e7a3b0",
   "metadata": {},
   "outputs": [
    {
     "name": "stdout",
     "output_type": "stream",
     "text": [
      "+---------+----------+\n",
      "|WinePrice|prediction|\n",
      "+---------+----------+\n",
      "|     42.5|     43.51|\n",
      "|   262.68|    255.08|\n",
      "|    155.0|    219.62|\n",
      "|   192.98|    251.75|\n",
      "|   342.98|    291.92|\n",
      "|   116.48|    235.85|\n",
      "|    174.0|    266.59|\n",
      "|    240.0|    260.11|\n",
      "|   402.28|    297.67|\n",
      "|   197.98|    268.04|\n",
      "|    460.0|    329.71|\n",
      "|    145.0|    239.35|\n",
      "|   292.68|    275.85|\n",
      "|    348.0|    310.04|\n",
      "|    372.0|    340.86|\n",
      "|    725.0|    382.79|\n",
      "|   422.98|    326.34|\n",
      "|    43.28|     127.1|\n",
      "|    57.13|     52.94|\n",
      "|    54.17|     30.73|\n",
      "+---------+----------+\n",
      "only showing top 20 rows\n",
      "\n"
     ]
    }
   ],
   "source": [
    "predictions_lm_s.select('WinePrice', round('prediction',2).alias('prediction')).show(20)"
   ]
  },
  {
   "cell_type": "code",
   "execution_count": 81,
   "id": "9f335f0c",
   "metadata": {},
   "outputs": [
    {
     "data": {
      "text/plain": [
       "[42.5, 262.68, 155.0, 192.98, 342.98, 116.48, 174.0, 240.0, 402.28, 197.98]"
      ]
     },
     "execution_count": 81,
     "metadata": {},
     "output_type": "execute_result"
    }
   ],
   "source": [
    "import matplotlib.pyplot as plt\n",
    "test_target_s = test_set_s.select('WinePrice')\n",
    "target_points_s = [ item.WinePrice for item in test_target_s.collect() ]\n",
    "target_points_s[:10]"
   ]
  },
  {
   "cell_type": "code",
   "execution_count": 82,
   "id": "9d9faca6",
   "metadata": {},
   "outputs": [],
   "source": [
    "pred_points = [ item.prediction for item in predictions_lm_s.collect() ]"
   ]
  },
  {
   "cell_type": "code",
   "execution_count": 83,
   "id": "11011384",
   "metadata": {},
   "outputs": [
    {
     "data": {
      "image/png": "[encoded data removed]",
      "text/plain": [
       "<Figure size 1080x504 with 1 Axes>"
      ]
     },
     "metadata": {
      "needs_background": "light"
     },
     "output_type": "display_data"
    }
   ],
   "source": [
    "scatteplot_lm_s = plt.scatter(target_points_s, pred_points) \n",
    "scatteplot_lm_s.figure.set_size_inches(15,7)"
   ]
  },
  {
   "cell_type": "markdown",
   "id": "f532b1b0",
   "metadata": {},
   "source": [
    "Graficamente possiamo osservare che vi è un alta variabilità del modello su valori sopra i 200€. Teoricamente potremmo mettere una soglia di 200€ sui vini da dare in pasto al modello per far si che apprenda meglio e vi sia ancor meno variabilità.\n",
    "\n",
    "\n",
    "### 4.2 - Random Forest\n",
    "\n",
    "Anche in questo caso proverò a implementare una RandomForest sia per dati scalati che per dati non scalati:"
   ]
  },
  {
   "cell_type": "code",
   "execution_count": 84,
   "id": "d7cad006",
   "metadata": {},
   "outputs": [],
   "source": [
    "from pyspark.ml.regression import RandomForestRegressor as RF"
   ]
  },
  {
   "cell_type": "code",
   "execution_count": 85,
   "id": "35129884",
   "metadata": {},
   "outputs": [],
   "source": [
    "regressor_rf_ns = RF(featuresCol='features', labelCol='WinePrice', numTrees=10, maxDepth=5)"
   ]
  },
  {
   "cell_type": "code",
   "execution_count": 86,
   "id": "d5d23f48",
   "metadata": {},
   "outputs": [],
   "source": [
    "model_rf_ns = regressor_rf_ns.fit(training_set_ns)"
   ]
  },
  {
   "cell_type": "code",
   "execution_count": 87,
   "id": "6494370d",
   "metadata": {},
   "outputs": [],
   "source": [
    "predictions_rf_ns = model_rf_ns.transform(test_set_ns)"
   ]
  },
  {
   "cell_type": "code",
   "execution_count": 88,
   "id": "f7dace88",
   "metadata": {},
   "outputs": [],
   "source": [
    "from pyspark.ml.evaluation import RegressionEvaluator\n",
    "evaluator = RegressionEvaluator(labelCol=\"WinePrice\", predictionCol=\"prediction\", metricName=\"rmse\")"
   ]
  },
  {
   "cell_type": "code",
   "execution_count": 90,
   "id": "06dcc2db",
   "metadata": {},
   "outputs": [],
   "source": [
    "rmse = evaluator.evaluate(predictions_rf_ns)"
   ]
  },
  {
   "cell_type": "code",
   "execution_count": 91,
   "id": "564a579a",
   "metadata": {},
   "outputs": [
    {
     "data": {
      "image/png": "[encoded data removed]",
      "text/plain": [
       "<Figure size 432x288 with 1 Axes>"
      ]
     },
     "metadata": {
      "needs_background": "light"
     },
     "output_type": "display_data"
    }
   ],
   "source": [
    "import matplotlib.pyplot as plt\n",
    "\n",
    "rfPred = model_rf_ns.transform(df_final)\n",
    "rfResult = rfPred.toPandas()\n",
    "plt.plot(rfResult.WinePrice, rfResult.prediction, 'bo')\n",
    "plt.xlabel('Price')\n",
    "plt.ylabel('Prediction')\n",
    "plt.suptitle(\"Model Performance RMSE: %f\" % rmse)\n",
    "plt.show()"
   ]
  },
  {
   "cell_type": "markdown",
   "id": "96e4404b",
   "metadata": {},
   "source": [
    "Continuiamo a osservare una certa variabilità anche con la Random Forest. In questo caso però abbiamo un RMSE di 53.25, che, rispetto al 64.30 della regressione lineare su dati non scalati, rappresenta un buon miglioramento."
   ]
  },
  {
   "cell_type": "code",
   "execution_count": 92,
   "id": "09086764",
   "metadata": {},
   "outputs": [
    {
     "data": {
      "text/plain": [
       "SparseVector(1170, {0: 0.0315, 5: 0.0008, 7: 0.1128, 11: 0.0028, 14: 0.0162, 16: 0.0043, 19: 0.0015, 23: 0.0021, 27: 0.0003, 29: 0.0057, 37: 0.0005, 44: 0.0309, 49: 0.0014, 53: 0.0005, 63: 0.0358, 67: 0.0003, 68: 0.001, 70: 0.0006, 84: 0.0004, 100: 0.0032, 165: 0.0, 203: 0.0049, 353: 0.0082, 380: 0.0011, 436: 0.0011, 453: 0.0007, 487: 0.0008, 522: 0.0093, 699: 0.0098, 1074: 0.0079, 1076: 0.002, 1080: 0.0003, 1081: 0.0007, 1082: 0.0016, 1093: 0.0014, 1106: 0.1195, 1108: 0.0006, 1109: 0.0001, 1135: 0.0002, 1136: 0.0026, 1138: 0.0002, 1139: 0.0, 1140: 0.0026, 1141: 0.0014, 1142: 0.0027, 1144: 0.0015, 1145: 0.0001, 1146: 0.0, 1147: 0.0056, 1148: 0.0004, 1149: 0.0, 1150: 0.0062, 1151: 0.0005, 1152: 0.0001, 1166: 0.0145, 1168: 0.5025, 1169: 0.0364})"
      ]
     },
     "execution_count": 92,
     "metadata": {},
     "output_type": "execute_result"
    }
   ],
   "source": [
    "model_rf_ns.featureImportances"
   ]
  },
  {
   "cell_type": "markdown",
   "id": "dfae3173",
   "metadata": {},
   "source": [
    "Avendo molte modalità nelle variabili categoriche, siamo di fronte a 1170 variabili, sopratutto dummies, di difficile interpretazione. Una possibile soluzione per valutare quali sono quelle che influiscono sul prezzo e fare un sorting dei valori interni al dizionario dello Sparse Vector."
   ]
  },
  {
   "cell_type": "code",
   "execution_count": 93,
   "id": "429e2bf7",
   "metadata": {},
   "outputs": [
    {
     "data": {
      "text/plain": [
       "[0.5024927725294861,\n",
       " 0.11947921297520567,\n",
       " 0.1128123557658164,\n",
       " 0.036357479350211934,\n",
       " 0.03578509807709981,\n",
       " 0.031526233570012524,\n",
       " 0.030948606074603813,\n",
       " 0.016179986900955422,\n",
       " 0.014481327578298283,\n",
       " 0.009827503256259081]"
      ]
     },
     "execution_count": 93,
     "metadata": {},
     "output_type": "execute_result"
    }
   ],
   "source": [
    "sorted(model_rf_ns.featureImportances.values, reverse=True)[:10]"
   ]
  },
  {
   "cell_type": "markdown",
   "id": "1d7b2794",
   "metadata": {},
   "source": [
    "Tra le prime 10 variabili, una in particolare, secondo il modello, ha una Importance dello 0.50, con un netto salto rispetto alla seconda che ha un importance dello 0.11. Come osserviamo dalla cella precedente dove viene rappresentato lo Sparse Vector, si tratta della feature 1168, che stando all'ordine del dataframe originale, corrisponde al rating del vino (WineRating).\n",
    "\n",
    "Ora passo all'implementazione della random forest sui dati scalati per valutare le differenze:"
   ]
  },
  {
   "cell_type": "code",
   "execution_count": 94,
   "id": "0fd5f1f1",
   "metadata": {},
   "outputs": [],
   "source": [
    "regressor_rf_s = RF(featuresCol='features', labelCol='WinePrice', numTrees=10, maxDepth=5)"
   ]
  },
  {
   "cell_type": "code",
   "execution_count": 95,
   "id": "a61d8db5",
   "metadata": {},
   "outputs": [],
   "source": [
    "model_rf_s = regressor_rf_s.fit(training_set_s)"
   ]
  },
  {
   "cell_type": "code",
   "execution_count": 96,
   "id": "98c8db01",
   "metadata": {},
   "outputs": [],
   "source": [
    "predictions_rf_s = model_rf_s.transform(test_set_s)"
   ]
  },
  {
   "cell_type": "code",
   "execution_count": 97,
   "id": "1f1a48f4",
   "metadata": {},
   "outputs": [],
   "source": [
    "from pyspark.ml.evaluation import RegressionEvaluator\n",
    "evaluator_rf_s = RegressionEvaluator(labelCol=\"WinePrice\", predictionCol=\"prediction\", metricName=\"rmse\")"
   ]
  },
  {
   "cell_type": "code",
   "execution_count": 98,
   "id": "a962f4f7",
   "metadata": {},
   "outputs": [],
   "source": [
    "rmse_rf_s = evaluator_rf_s.evaluate(predictions_rf_s)"
   ]
  },
  {
   "cell_type": "code",
   "execution_count": 99,
   "id": "c9254d2c",
   "metadata": {},
   "outputs": [
    {
     "data": {
      "image/png": "[encoded data removed]",
      "text/plain": [
       "<Figure size 432x288 with 1 Axes>"
      ]
     },
     "metadata": {
      "needs_background": "light"
     },
     "output_type": "display_data"
    }
   ],
   "source": [
    "rfPred = model_rf_s.transform(df_final)\n",
    "rfResult = rfPred.toPandas()\n",
    "plt.plot(rfResult.WinePrice, rfResult.prediction, 'bo')\n",
    "plt.xlabel('Price')\n",
    "plt.ylabel('Prediction')\n",
    "plt.suptitle(\"Model Performance RMSE: %f\" % rmse_rf_s)\n",
    "plt.show()"
   ]
  },
  {
   "cell_type": "markdown",
   "id": "7f50fbbf",
   "metadata": {},
   "source": [
    "In questo caso l'RMSE sale a 62.12, un risultato che fa propendere verso il modello precedente."
   ]
  },
  {
   "cell_type": "code",
   "execution_count": 100,
   "id": "879caeab",
   "metadata": {},
   "outputs": [
    {
     "data": {
      "text/plain": [
       "SparseVector(1170, {0: 0.0116, 1: 0.0007, 5: 0.0018, 6: 0.0012, 7: 0.1352, 11: 0.0017, 12: 0.0008, 14: 0.0017, 19: 0.0056, 21: 0.001, 29: 0.0025, 37: 0.004, 44: 0.0154, 49: 0.0007, 53: 0.001, 63: 0.0339, 64: 0.0019, 73: 0.0005, 100: 0.0035, 103: 0.003, 203: 0.0052, 343: 0.0001, 353: 0.0022, 436: 0.0022, 453: 0.0031, 487: 0.0016, 522: 0.0021, 699: 0.0077, 1074: 0.007, 1081: 0.0059, 1082: 0.0005, 1084: 0.0007, 1086: 0.0, 1105: 0.0048, 1106: 0.1004, 1135: 0.0033, 1136: 0.0007, 1137: 0.0006, 1138: 0.0001, 1139: 0.0011, 1140: 0.0, 1141: 0.0001, 1142: 0.0002, 1144: 0.0001, 1145: 0.0003, 1146: 0.0005, 1147: 0.0117, 1148: 0.0008, 1150: 0.0, 1156: 0.0006, 1157: 0.002, 1160: 0.0, 1164: 0.0011, 1168: 0.5709, 1169: 0.0346})"
      ]
     },
     "execution_count": 100,
     "metadata": {},
     "output_type": "execute_result"
    }
   ],
   "source": [
    "model_rf_s.featureImportances"
   ]
  },
  {
   "cell_type": "code",
   "execution_count": 101,
   "id": "de8615d6",
   "metadata": {},
   "outputs": [
    {
     "data": {
      "text/plain": [
       "[0.5709339474336612,\n",
       " 0.1351856085883926,\n",
       " 0.10043866825044864,\n",
       " 0.03459328484476911,\n",
       " 0.033874962962710815,\n",
       " 0.015412544519351076,\n",
       " 0.011676428942378175,\n",
       " 0.011580718534033335,\n",
       " 0.007709826852699655,\n",
       " 0.007020003403294485]"
      ]
     },
     "execution_count": 101,
     "metadata": {},
     "output_type": "execute_result"
    }
   ],
   "source": [
    "sorted(model_rf_s.featureImportances.values, reverse=True)[:10]"
   ]
  },
  {
   "cell_type": "markdown",
   "id": "54aafe2d",
   "metadata": {},
   "source": [
    "In questo caso la feature 1168 (WinePrice) ha una feature importance che sale a 0.57, mentre sale a 0.13 la feature numero 7, che plausibilmente è frutto dell'encoding nell'OneHotEncoder, perciò di difficile interpretazione."
   ]
  },
  {
   "cell_type": "code",
   "execution_count": null,
   "id": "b810b65c",
   "metadata": {},
   "outputs": [],
   "source": []
  }
 ],
 "metadata": {
  "kernelspec": {
   "display_name": "Python 3 (ipykernel)",
   "language": "python",
   "name": "python3"
  },
  "language_info": {
   "codemirror_mode": {
    "name": "ipython",
    "version": 3
   },
   "file_extension": ".py",
   "mimetype": "text/x-python",
   "name": "python",
   "nbconvert_exporter": "python",
   "pygments_lexer": "ipython3",
   "version": "3.8.6"
  }
 },
 "nbformat": 4,
 "nbformat_minor": 5
}
